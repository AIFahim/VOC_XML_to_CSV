{
 "cells": [
  {
   "cell_type": "code",
   "execution_count": 18,
   "metadata": {},
   "outputs": [],
   "source": [
    "import os\n",
    "import glob\n",
    "import pandas as pd\n",
    "import xml.etree.ElementTree as ET\n",
    "\n",
    "def xml_to_csv(path):\n",
    "    xml_list = []\n",
    "    for xml_file in glob.glob(path):\n",
    "        tree = ET.parse(xml_file)\n",
    "        root = tree.getroot()\n",
    "        for member in root.findall('object'):\n",
    "            bbx = member.find('bndbox')\n",
    "            xmin = int(bbx.find('xmin').text)\n",
    "            ymin = int(bbx.find('ymin').text)\n",
    "            xmax = int(bbx.find('xmax').text)\n",
    "            ymax = int(bbx.find('ymax').text)\n",
    "            label = member.find('name').text\n",
    "\n",
    "            value = (root.find('filename').text,\n",
    "                     int(root.find('size')[0].text),\n",
    "                     int(root.find('size')[1].text),\n",
    "                     label,\n",
    "                     xmin,\n",
    "                     ymin,\n",
    "                     xmax,\n",
    "                     ymax\n",
    "                     )\n",
    "            xml_list.append(value)\n",
    "    column_name = ['filename', 'width', 'height',\n",
    "                   'class', 'xmin', 'ymin', 'xmax', 'ymax']\n",
    "    xml_df = pd.DataFrame(xml_list, columns=column_name)\n",
    "    return xml_df"
   ]
  },
  {
   "cell_type": "code",
   "execution_count": 19,
   "metadata": {},
   "outputs": [
    {
     "data": {
      "text/plain": [
       "3003"
      ]
     },
     "execution_count": 19,
     "metadata": {},
     "output_type": "execute_result"
    }
   ],
   "source": [
    "datasets = 'train'\n",
    "path = os.path.join(os.getcwd(), datasets , \"*.xml\")\n",
    "all_xml = glob.glob(path)\n",
    "len(all_xml)"
   ]
  },
  {
   "cell_type": "code",
   "execution_count": 20,
   "metadata": {},
   "outputs": [],
   "source": [
    "# 231.xml has error in parsing as it was not stored in VOC XML format\n",
    "df = pd.DataFrame()\n",
    "for i in all_xml:\n",
    "    try:\n",
    "        xml_df  = xml_to_csv(i)\n",
    "        xml_df[\"image_name\"] = i\n",
    "        df = df.append(xml_df, ignore_index = True)\n",
    "    except:\n",
    "        continue"
   ]
  },
  {
   "cell_type": "code",
   "execution_count": 21,
   "metadata": {},
   "outputs": [],
   "source": [
    "# EOL error if you put \\ at the end of a string. Replacing it with \\\\ will work fine\n",
    "left = \"/home/aifahim/projects/Dhaka AI/train/\"\n",
    "df['image_name'] = df['image_name'].map(lambda x: x.lstrip(left).rstrip('.xml')) + \".jpg\""
   ]
  },
  {
   "cell_type": "code",
   "execution_count": 22,
   "metadata": {},
   "outputs": [],
   "source": [
    "df.drop(\"filename\",axis=1, inplace = True)"
   ]
  },
  {
   "cell_type": "code",
   "execution_count": 27,
   "metadata": {},
   "outputs": [
    {
     "data": {
      "text/html": [
       "<div>\n",
       "<style scoped>\n",
       "    .dataframe tbody tr th:only-of-type {\n",
       "        vertical-align: middle;\n",
       "    }\n",
       "\n",
       "    .dataframe tbody tr th {\n",
       "        vertical-align: top;\n",
       "    }\n",
       "\n",
       "    .dataframe thead th {\n",
       "        text-align: right;\n",
       "    }\n",
       "</style>\n",
       "<table border=\"1\" class=\"dataframe\">\n",
       "  <thead>\n",
       "    <tr style=\"text-align: right;\">\n",
       "      <th></th>\n",
       "      <th>width</th>\n",
       "      <th>height</th>\n",
       "      <th>class</th>\n",
       "      <th>xmin</th>\n",
       "      <th>ymin</th>\n",
       "      <th>xmax</th>\n",
       "      <th>ymax</th>\n",
       "      <th>image_name</th>\n",
       "    </tr>\n",
       "  </thead>\n",
       "  <tbody>\n",
       "    <tr>\n",
       "      <th>24363</th>\n",
       "      <td>1058</td>\n",
       "      <td>624</td>\n",
       "      <td>three wheelers (CNG)</td>\n",
       "      <td>590</td>\n",
       "      <td>228</td>\n",
       "      <td>679</td>\n",
       "      <td>341</td>\n",
       "      <td>_442.jpg</td>\n",
       "    </tr>\n",
       "    <tr>\n",
       "      <th>24364</th>\n",
       "      <td>1058</td>\n",
       "      <td>624</td>\n",
       "      <td>truck</td>\n",
       "      <td>816</td>\n",
       "      <td>178</td>\n",
       "      <td>878</td>\n",
       "      <td>248</td>\n",
       "      <td>_442.jpg</td>\n",
       "    </tr>\n",
       "    <tr>\n",
       "      <th>24365</th>\n",
       "      <td>1058</td>\n",
       "      <td>624</td>\n",
       "      <td>truck</td>\n",
       "      <td>966</td>\n",
       "      <td>185</td>\n",
       "      <td>1028</td>\n",
       "      <td>242</td>\n",
       "      <td>_442.jpg</td>\n",
       "    </tr>\n",
       "    <tr>\n",
       "      <th>24366</th>\n",
       "      <td>1058</td>\n",
       "      <td>624</td>\n",
       "      <td>truck</td>\n",
       "      <td>916</td>\n",
       "      <td>179</td>\n",
       "      <td>953</td>\n",
       "      <td>229</td>\n",
       "      <td>_442.jpg</td>\n",
       "    </tr>\n",
       "    <tr>\n",
       "      <th>24367</th>\n",
       "      <td>1058</td>\n",
       "      <td>624</td>\n",
       "      <td>car</td>\n",
       "      <td>889</td>\n",
       "      <td>202</td>\n",
       "      <td>907</td>\n",
       "      <td>220</td>\n",
       "      <td>_442.jpg</td>\n",
       "    </tr>\n",
       "  </tbody>\n",
       "</table>\n",
       "</div>"
      ],
      "text/plain": [
       "       width  height                 class  xmin  ymin  xmax  ymax image_name\n",
       "24363   1058     624  three wheelers (CNG)   590   228   679   341   _442.jpg\n",
       "24364   1058     624                 truck   816   178   878   248   _442.jpg\n",
       "24365   1058     624                 truck   966   185  1028   242   _442.jpg\n",
       "24366   1058     624                 truck   916   179   953   229   _442.jpg\n",
       "24367   1058     624                   car   889   202   907   220   _442.jpg"
      ]
     },
     "execution_count": 27,
     "metadata": {},
     "output_type": "execute_result"
    }
   ],
   "source": [
    "df.tail()"
   ]
  },
  {
   "cell_type": "code",
   "execution_count": 24,
   "metadata": {},
   "outputs": [
    {
     "data": {
      "text/plain": [
       "2965"
      ]
     },
     "execution_count": 24,
     "metadata": {},
     "output_type": "execute_result"
    }
   ],
   "source": [
    "# checking\n",
    "df[\"image_name\"].nunique()"
   ]
  },
  {
   "cell_type": "code",
   "execution_count": 26,
   "metadata": {},
   "outputs": [],
   "source": [
    "# convert to csv \n",
    "df.to_csv(\"dhaka_ai.csv\", index=False)"
   ]
  },
  {
   "cell_type": "code",
   "execution_count": null,
   "metadata": {},
   "outputs": [],
   "source": []
  }
 ],
 "metadata": {
  "kernelspec": {
   "display_name": "Python 3",
   "language": "python",
   "name": "python3"
  },
  "language_info": {
   "codemirror_mode": {
    "name": "ipython",
    "version": 3
   },
   "file_extension": ".py",
   "mimetype": "text/x-python",
   "name": "python",
   "nbconvert_exporter": "python",
   "pygments_lexer": "ipython3",
   "version": "3.7.6"
  }
 },
 "nbformat": 4,
 "nbformat_minor": 4
}
